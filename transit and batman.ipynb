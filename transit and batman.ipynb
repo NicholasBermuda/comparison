{
 "cells": [
  {
   "cell_type": "code",
   "execution_count": 1,
   "metadata": {
    "collapsed": true
   },
   "outputs": [],
   "source": [
    "import transit #commit no. 45e97c6, autodiff branch\n",
    "import batman #commit no. 972164f, master branch\n",
    "import numpy as np\n",
    "import math\n",
    "import matplotlib.pyplot as plt\n",
    "%matplotlib inline"
   ]
  },
  {
   "cell_type": "code",
   "execution_count": 2,
   "metadata": {
    "collapsed": false
   },
   "outputs": [],
   "source": [
    "time = np.arange(-2, 2, 0.0001)\n",
    "texp = 1626./86400"
   ]
  },
  {
   "cell_type": "code",
   "execution_count": 3,
   "metadata": {
    "collapsed": false
   },
   "outputs": [],
   "source": [
    "rhostar = 0.5\n",
    "q1 = 0.5\n",
    "q2 = 0.5\n",
    "u1 = 2*math.sqrt(q1)*q2 #convert q1,q2 to u1,u2 from Kipping (2013)\n",
    "u2 = math.sqrt(q1)*(1.-2*q2)\n",
    "dilution = 0.2 #i've implemented the dilution calculation into my copy of the transit package\n",
    "period = 5. #in days\n",
    "t0 = 0. #epoch in days\n",
    "b = 0.6\n",
    "rprs = 0.15\n",
    "e = 0.\n",
    "w = 3. #omega in radians\n",
    "periodcgs = period*86400.\n",
    "big_G = 6.6726e-8\n",
    "ars = ((rhostar*big_G*periodcgs**2)/(3*math.pi))**(1./3.) #a over R_star, from Winn (2014), eqn 30\n",
    "incl = math.acos((b/ars)*((1+e*math.sin(w))/(1-e**2))) *180./math.pi #i from Winn (2014), eqn 7"
   ]
  },
  {
   "cell_type": "markdown",
   "metadata": {},
   "source": [
    "Setting up the `transit` model"
   ]
  },
  {
   "cell_type": "code",
   "execution_count": 4,
   "metadata": {
    "collapsed": false
   },
   "outputs": [],
   "source": [
    "central = transit.Central(q1=q1, q2=q2) #setting the central body of the system\n",
    "central.density = rhostar\n",
    "s = transit.System(central, dilution=dilution)"
   ]
  },
  {
   "cell_type": "code",
   "execution_count": 5,
   "metadata": {
    "collapsed": false
   },
   "outputs": [],
   "source": [
    "r = central.radius * rprs\n",
    "body = transit.Body(radius=r, mass=0, period=period, t0=t0, e=e, omega=w, b=b)\n",
    "s.add_body(body)"
   ]
  },
  {
   "cell_type": "code",
   "execution_count": 6,
   "metadata": {
    "collapsed": false
   },
   "outputs": [],
   "source": [
    "transitflux = s.light_curve(time,texp=texp)"
   ]
  },
  {
   "cell_type": "markdown",
   "metadata": {},
   "source": [
    "Setting up the `batman` model"
   ]
  },
  {
   "cell_type": "code",
   "execution_count": 7,
   "metadata": {
    "collapsed": false
   },
   "outputs": [],
   "source": [
    "params = batman.TransitParams()\n",
    "params.per = period\n",
    "params.t0 = t0\n",
    "params.rp = rprs\n",
    "params.a = ars\n",
    "params.inc = incl\n",
    "params.ecc = e\n",
    "params.w = w\n",
    "params.limb_dark = 'quadratic'\n",
    "params.u = [u1,u2]"
   ]
  },
  {
   "cell_type": "code",
   "execution_count": 8,
   "metadata": {
    "collapsed": true
   },
   "outputs": [],
   "source": [
    "model = batman.TransitModel(params,time,nthreads=1,supersample_factor=5.,exp_time=texp)\n",
    "batmanflux = model.light_curve(params)\n",
    "dilutedbatmanflux = 1-(1-batmanflux)*(1-dilution)"
   ]
  },
  {
   "cell_type": "code",
   "execution_count": 10,
   "metadata": {
    "collapsed": false
   },
   "outputs": [
    {
     "data": {
      "image/png": "[encoded data removed]",
      "text/plain": [
       "<matplotlib.figure.Figure at 0x1070a6b10>"
      ]
     },
     "metadata": {},
     "output_type": "display_data"
    }
   ],
   "source": [
    "plt.plot(time,dilutedbatmanflux,'g',label='batman')\n",
    "plt.plot(time,transitflux,'r',label='transit')\n",
    "plt.xlim(-0.15,0.15)\n",
    "plt.ylim(0.975,1.001)\n",
    "plt.legend(loc='lower right')\n",
    "plt.xlabel('Time from t0 (days)')\n",
    "plt.ylabel('Relative flux (ppm)')\n",
    "plt.title('Comparison of batman and transit light curves')\n",
    "plt.show()"
   ]
  },
  {
   "cell_type": "markdown",
   "metadata": {
    "collapsed": true
   },
   "source": [
    "So there is a discrepancy between the two packages, and based on the shape of the light curves it looks like the differences lies in the implementation of limb darkening."
   ]
  }
 ],
 "metadata": {
  "kernelspec": {
   "display_name": "Python 2",
   "language": "python",
   "name": "python2"
  },
  "language_info": {
   "codemirror_mode": {
    "name": "ipython",
    "version": 2
   },
   "file_extension": ".py",
   "mimetype": "text/x-python",
   "name": "python",
   "nbconvert_exporter": "python",
   "pygments_lexer": "ipython2",
   "version": "2.7.10"
  }
 },
 "nbformat": 4,
 "nbformat_minor": 0
}
